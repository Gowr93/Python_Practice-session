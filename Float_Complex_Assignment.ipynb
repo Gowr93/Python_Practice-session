{
 "cells": [
  {
   "cell_type": "markdown",
   "id": "06c9c070-5394-4a06-ae73-4d1413f4701b",
   "metadata": {},
   "source": [
    "# Float Assignment"
   ]
  },
  {
   "cell_type": "code",
   "execution_count": null,
   "id": "5e3791e9-53eb-4bbf-ab5c-fdb06813937d",
   "metadata": {},
   "outputs": [],
   "source": [
    "\"\"\"\n",
    "Declare a float value and store it in a variable.\n",
    "Check the type and print the id of the same.\n",
    "\"\"\""
   ]
  },
  {
   "cell_type": "code",
   "execution_count": 1,
   "id": "a07399f7-3e7c-41cc-84ad-cb0033e1752d",
   "metadata": {},
   "outputs": [
    {
     "name": "stdout",
     "output_type": "stream",
     "text": [
      "8.369 <class 'float'>\n"
     ]
    }
   ],
   "source": [
    "a = 8.369\n",
    "\n",
    "print(a,type(a))"
   ]
  },
  {
   "cell_type": "code",
   "execution_count": null,
   "id": "ca212ca7-177b-4a70-b888-02d983315897",
   "metadata": {},
   "outputs": [],
   "source": [
    "\"\"\"\n",
    "Arithmetic Operations on float\n",
    "Take two different float values.\n",
    "Store them in two different variables.\n",
    "Do below operations on them:-\n",
    "Find sum of both numbers\n",
    "Find difference between them\n",
    "Find the product of both numbers.\n",
    "Find value after dividing first num with second number\n",
    "Find the remainder after dividing first number with second number\n",
    "Find the quotient after dividing first number with second number\n",
    "Find the result of the first num to the power of the second number.\n",
    "\"\"\""
   ]
  },
  {
   "cell_type": "code",
   "execution_count": 3,
   "id": "798e718d-38ab-4da7-80f7-61b357f19cfd",
   "metadata": {},
   "outputs": [
    {
     "name": "stdout",
     "output_type": "stream",
     "text": [
      "Sum of m and n: 6.46\n",
      "Difference between m and n: -3.96\n",
      "Product of m and n: 6.5125\n",
      "Dividing m by n : 0.2399232245681382\n",
      "Remainder of m and n: 1.25\n",
      "Quotient of m and n: 0.0\n",
      "m to the power n : 3.1981672211887817\n"
     ]
    }
   ],
   "source": [
    "m = 1.25\n",
    "n = 5.21\n",
    "\n",
    "print(\"Sum of m and n:\", m + n)\n",
    "print(\"Difference between m and n:\", m - n)\n",
    "print(\"Product of m and n:\", m * n)\n",
    "print(\"Dividing m by n :\", m / n)\n",
    "print(\"Remainder of m and n:\", m % n)\n",
    "print(\"Quotient of m and n:\", m // n)\n",
    "print(\"m to the power n :\", m ** n)"
   ]
  },
  {
   "cell_type": "code",
   "execution_count": null,
   "id": "df81bd8a-ff94-4659-93f7-ce5d2bbe6448",
   "metadata": {},
   "outputs": [],
   "source": [
    "\"\"\"\n",
    "Comparison Operators on float\n",
    "Take two different float values.\n",
    "Store them in two different variables.\n",
    "Do below operations on them:-\n",
    "Compare these two numbers with below operator:-\n",
    "Greater than, '>'\n",
    "Smaller than, '<'\n",
    "Greater than or equal to, '>='\n",
    "Less than or equal to, '<='\n",
    "Observe their output(return type should be boolean)\n",
    "\"\"\""
   ]
  },
  {
   "cell_type": "code",
   "execution_count": 7,
   "id": "bc3d41a0-acd6-40c6-b76a-d1bd7421392a",
   "metadata": {},
   "outputs": [
    {
     "name": "stdout",
     "output_type": "stream",
     "text": [
      "Is f is greater than g: True\n",
      "Is f is smaller than g: False\n",
      "Is f is greater than or equal to  g: True\n",
      "Is f is smaller than or equal to  g: False\n"
     ]
    }
   ],
   "source": [
    "f = 92.678\n",
    "g = 15.789\n",
    "\n",
    "print(\"Is f is greater than g:\", bool(f > g))\n",
    "print(\"Is f is smaller than g:\", bool(f < g))\n",
    "print(\"Is f is greater than or equal to  g:\", bool(f >= g))\n",
    "print(\"Is f is smaller than or equal to  g:\", bool(f <= g))\n",
    "\n"
   ]
  },
  {
   "cell_type": "code",
   "execution_count": null,
   "id": "64ba3dd5-402f-468f-b4d7-f7761a2b5686",
   "metadata": {},
   "outputs": [],
   "source": [
    "\"\"\"\n",
    "Equality Operator\n",
    "Take two different float values.\n",
    "Store them in two different variables.\n",
    "Equate them using equality operators (==, !=)\n",
    "Observe the output(return type should be boolean)\n",
    "\"\"\""
   ]
  },
  {
   "cell_type": "code",
   "execution_count": 9,
   "id": "c57894a2-8f96-427b-a233-2d398b6d329c",
   "metadata": {},
   "outputs": [
    {
     "name": "stdout",
     "output_type": "stream",
     "text": [
      "Checking whether j is equal to k :  False\n",
      "Checking whether j is not equal to k :  True\n"
     ]
    }
   ],
   "source": [
    "j = 3.1414\n",
    "k = 1.2568\n",
    "\n",
    "print(\"Checking whether j is equal to k : \", j == k)\n",
    "print(\"Checking whether j is not equal to k : \", j != k)"
   ]
  },
  {
   "cell_type": "code",
   "execution_count": null,
   "id": "6c1cf97f-591d-4a14-a379-7821b7ce8172",
   "metadata": {},
   "outputs": [],
   "source": [
    "\"Logical Operators\""
   ]
  },
  {
   "cell_type": "code",
   "execution_count": 11,
   "id": "d8ab243a-ebf7-4b0a-88bd-391e6e376951",
   "metadata": {},
   "outputs": [
    {
     "name": "stdout",
     "output_type": "stream",
     "text": [
      "20.3\n",
      "0.0\n",
      "0.0\n",
      "0.0\n",
      "10.2\n",
      "20.3\n",
      "20.3\n",
      "0.0\n",
      "False\n",
      "True\n"
     ]
    }
   ],
   "source": [
    "print(10.20 and 20.30)\n",
    "print(0.0 and 20.30)\n",
    "print(20.30 and 0.0)\n",
    "print(0.0 and 0.0)\n",
    "print(10.20 or 20.30)\n",
    "print(0.0 or 20.30)\n",
    "print(20.30 or 0.0)\n",
    "print(0.0 or 0.0)\n",
    "print( not 10.20)\n",
    "print( not 0.0)"
   ]
  },
  {
   "cell_type": "code",
   "execution_count": null,
   "id": "cd9a31bc-89bc-4645-ad20-2e655e5cc419",
   "metadata": {},
   "outputs": [],
   "source": [
    "\"\"\"\n",
    "What is the output of expression inside print statement. Cross check\n",
    "before running the program.\n",
    "a = 10.20\n",
    "b - 10.20\n",
    "print (a is b) #True or False? True 10.20<256\n",
    "print (a is not b) #True or False? False\n",
    "Why the Id of float values are different when the same value is\n",
    "assigned to two different variables\n",
    "ex: a = 10.5 b=10.5. but id will be same if I assign the variable\n",
    "having float i.e. a=c then both a and c's Id are same\n",
    "\"\"\""
   ]
  },
  {
   "cell_type": "code",
   "execution_count": 19,
   "id": "9269673b-27db-4f4f-bf60-bca1dd2b5d5f",
   "metadata": {},
   "outputs": [
    {
     "name": "stdout",
     "output_type": "stream",
     "text": [
      "1586779648208\n",
      "1586779649232\n",
      "1586779649232\n",
      "Does a and b are same object ?  False\n",
      "Does a and b are not  same object ?  True\n",
      "Does b and c are same object ?  True\n"
     ]
    }
   ],
   "source": [
    "a = 10.20\n",
    "b = 10.20\n",
    "c = b\n",
    "print(id(a))\n",
    "print(id(b))\n",
    "print(id(c))\n",
    "\n",
    "print( \"Does a and b are same object ? \", a is b)\n",
    "print( \"Does a and b are not  same object ? \", a is not b)\n",
    "print( \"Does b and c are same object ? \", b is c)\n"
   ]
  },
  {
   "cell_type": "code",
   "execution_count": null,
   "id": "43cfbdcd-88be-4eb5-83b1-17100d832d40",
   "metadata": {},
   "outputs": [],
   "source": [
    "\"\"\"\n",
    "Bitwise operation is not applicable between instances of float.\n",
    "Why the Id of float values are different when the same value is\n",
    "assigned to two different variables\n",
    "ex: a = 10.5 b=10.5. but id will be same if I assign the variable\n",
    "having float i.e. a=c then both a and c's Id are same\n",
    "Object reusability concept is not applicable on float values.\n",
    "\"\"\""
   ]
  },
  {
   "cell_type": "code",
   "execution_count": null,
   "id": "1dc670cb-d717-47dd-9306-2168d734b2d4",
   "metadata": {},
   "outputs": [],
   "source": [
    "\"\"\"\n",
    "Membership operation\n",
    "in, not in are two membership operators and it returns boolean value\n",
    "print ( '2.7' in 'Python2.7.8' ) #True\n",
    "print ( 10.20 in [ 10 , 10.20 , 10 + 20j , 'Python' ]) #True\n",
    "print ( 10.20 in ( 10 , 10.20 , 10 + 20j , 'Python' )) # True\n",
    "print ( 20.30 in { 1 , 20.30 , 30 + 40j }) # True\n",
    "print ( 2.3 in { 1 : 100 , 2.3 : 200 , 30 + 40j : 300 }) # True\n",
    "print ( 10 in range ( 20 )) # True\n",
    "\"\"\""
   ]
  },
  {
   "cell_type": "code",
   "execution_count": 23,
   "id": "d27e2542-fda6-4405-973c-8e4d8755058e",
   "metadata": {},
   "outputs": [
    {
     "name": "stdout",
     "output_type": "stream",
     "text": [
      "True\n",
      "True\n",
      "True\n",
      "True\n",
      "True\n"
     ]
    },
    {
     "ename": "TypeError",
     "evalue": "'float' object cannot be interpreted as an integer",
     "output_type": "error",
     "traceback": [
      "\u001b[1;31m---------------------------------------------------------------------------\u001b[0m",
      "\u001b[1;31mTypeError\u001b[0m                                 Traceback (most recent call last)",
      "Cell \u001b[1;32mIn[23], line 6\u001b[0m\n\u001b[0;32m      4\u001b[0m \u001b[38;5;28mprint\u001b[39m(\u001b[38;5;241m20.30\u001b[39m \u001b[38;5;129;01min\u001b[39;00m {\u001b[38;5;241m1\u001b[39m,\u001b[38;5;241m20.30\u001b[39m, \u001b[38;5;241m30\u001b[39m \u001b[38;5;241m+\u001b[39m \u001b[38;5;241m40\u001b[39mj})\n\u001b[0;32m      5\u001b[0m \u001b[38;5;28mprint\u001b[39m(\u001b[38;5;241m2.3\u001b[39m \u001b[38;5;129;01min\u001b[39;00m { \u001b[38;5;241m1\u001b[39m : \u001b[38;5;241m100\u001b[39m, \u001b[38;5;241m2.3\u001b[39m : \u001b[38;5;241m200\u001b[39m, \u001b[38;5;241m30\u001b[39m \u001b[38;5;241m+\u001b[39m \u001b[38;5;241m40\u001b[39mj : \u001b[38;5;241m300\u001b[39m})\n\u001b[1;32m----> 6\u001b[0m \u001b[38;5;28mprint\u001b[39m(\u001b[38;5;241m10.1\u001b[39m \u001b[38;5;129;01min\u001b[39;00m \u001b[38;5;28mrange\u001b[39m(\u001b[38;5;241m20.0\u001b[39m))\n",
      "\u001b[1;31mTypeError\u001b[0m: 'float' object cannot be interpreted as an integer"
     ]
    }
   ],
   "source": [
    "print('2.7' in 'Python2.7.8')\n",
    "print( 10.20 in [10 , 10.20, 10 + 20j, 'Python'])\n",
    "print(10.201 in (10, 10.201, 10 + 20j,'Python'))\n",
    "print(20.30 in {1,20.30, 30 + 40j})\n",
    "print(2.3 in { 1 : 100, 2.3 : 200, 30 + 40j : 300})\n",
    "print(10.1 in range(20.0))"
   ]
  },
  {
   "cell_type": "markdown",
   "id": "2c4b0796-caec-4625-84d2-2067472727e2",
   "metadata": {},
   "source": [
    "# Complex Assignment "
   ]
  },
  {
   "cell_type": "code",
   "execution_count": null,
   "id": "37c4d467-4695-40ee-93a2-63f8dbc06066",
   "metadata": {},
   "outputs": [],
   "source": [
    "\"\"\"\n",
    "Declare a complex number and store it in a variable.\n",
    "Check the type and print the id of the same.\n",
    "\"\"\""
   ]
  },
  {
   "cell_type": "code",
   "execution_count": 26,
   "id": "d4f0188a-b040-404f-8bc4-98af7a7c1d9c",
   "metadata": {},
   "outputs": [
    {
     "name": "stdout",
     "output_type": "stream",
     "text": [
      "<class 'complex'>\n"
     ]
    }
   ],
   "source": [
    "a = 3 + 2j\n",
    "print(type(a))"
   ]
  },
  {
   "cell_type": "code",
   "execution_count": null,
   "id": "5c4489b5-1ded-4a34-a64f-d35c3737eb0e",
   "metadata": {},
   "outputs": [],
   "source": [
    "\"\"\"\n",
    "\n",
    "Arithmetic Operations on complex number\n",
    "Take two different complex numbers.\n",
    "Store them in two different variables.\n",
    "Do below operations on them:-\n",
    "Find sum of both numbers\n",
    "Find difference between them\n",
    "Find the product of both numbers.\n",
    "Find value after dividing first num with second number\n",
    "Find the result of the first num to the power of the second number.\n",
    "\n",
    "\"\"\""
   ]
  },
  {
   "cell_type": "code",
   "execution_count": 32,
   "id": "b79a4b36-6326-4f61-9282-8beed482f9a4",
   "metadata": {},
   "outputs": [
    {
     "name": "stdout",
     "output_type": "stream",
     "text": [
      "Sum of k and l: (9+14j)\n",
      "Difference between k and l: (-3-4j)\n",
      "Product of k and l: (-27+57j)\n",
      "Dividing k by l : (0.5384615384615384+0.02564102564102562j)\n",
      "k to the power l : (-3.6836531118480225-0.22030417358754825j)\n"
     ]
    }
   ],
   "source": [
    "k = (3 + 5j)\n",
    "l = (6 + 9j)\n",
    "\n",
    "print(\"Sum of k and l:\", k + l)\n",
    "print(\"Difference between k and l:\", k - l)\n",
    "print(\"Product of k and l:\", k * l)\n",
    "print(\"Dividing k by l :\", k / l)\n",
    "print(\"k to the power l :\", k ** l)"
   ]
  },
  {
   "cell_type": "code",
   "execution_count": null,
   "id": "ba97f5a6-85a1-4d14-83a7-ffd71a2cb1b8",
   "metadata": {},
   "outputs": [],
   "source": [
    "\"\"\"\n",
    "Comparison Operation not applicable between instance of complex values.\n",
    "Object reusability concept is not applicable on complex number.\n",
    "\n",
    "\"\"\""
   ]
  },
  {
   "cell_type": "code",
   "execution_count": null,
   "id": "5c380ca6-305e-4b20-994d-2cdae5344050",
   "metadata": {},
   "outputs": [],
   "source": [
    "# complex numbers cannot compared since associated with imaginary number"
   ]
  },
  {
   "cell_type": "code",
   "execution_count": null,
   "id": "470fdfcf-a8ce-4868-837e-50c679f23db6",
   "metadata": {},
   "outputs": [],
   "source": [
    "\"\"\"\n",
    "Equality Operator\n",
    "Take two different complex numbers.\n",
    "Store them in two different variables.\n",
    "Equate them using equality operators (==, !=)\n",
    "Observe the output(return type should be boolean)\n",
    "\n",
    "\"\"\""
   ]
  },
  {
   "cell_type": "code",
   "execution_count": 34,
   "id": "b6d9c474-3dc7-4c5d-bfe5-f58eca0366c6",
   "metadata": {},
   "outputs": [
    {
     "name": "stdout",
     "output_type": "stream",
     "text": [
      "whether y and z is equal: False\n",
      "whether y and z is not equal: True\n"
     ]
    }
   ],
   "source": [
    "y = 7 + 7j\n",
    "z = 8 + 8j\n",
    "\n",
    "print(\"whether y and z is equal:\", y == z)\n",
    "print(\"whether y and z is not equal:\", y != z)"
   ]
  },
  {
   "cell_type": "code",
   "execution_count": null,
   "id": "0f1c688e-f838-4708-b3b1-18399e87a33b",
   "metadata": {},
   "outputs": [],
   "source": [
    "\"\"\"\n",
    "What is the output of the expression inside the print statement.\n",
    "Cross check before running the program.\n",
    "a = 10+20j\n",
    "b = 10+20j\n",
    "print(a is b) #False #True or False?\n",
    "print(a is not b) #True #True or False\n",
    "\n",
    "\"\"\""
   ]
  },
  {
   "cell_type": "code",
   "execution_count": 36,
   "id": "2fba6926-d089-413e-8593-006836ef1e15",
   "metadata": {},
   "outputs": [
    {
     "name": "stdout",
     "output_type": "stream",
     "text": [
      "checking a is b: False\n",
      "checking a is not b: True\n"
     ]
    }
   ],
   "source": [
    "a = 10 + 20j\n",
    "b = 10 + 20j\n",
    "\n",
    "print(\"checking a is b:\", a is b)\n",
    "print(\"checking a is not b:\", a is not b)"
   ]
  },
  {
   "cell_type": "code",
   "execution_count": null,
   "id": "59592610-0d6e-4578-9f86-520d80d17f01",
   "metadata": {},
   "outputs": [],
   "source": [
    "\"\"\"\n",
    "Membership operation\n",
    "in, not in are two membership operators and it returns boolean value\n",
    "\"\"\""
   ]
  },
  {
   "cell_type": "code",
   "execution_count": 38,
   "id": "a99e6867-5ec8-46e0-8c0a-5e52a1d1644c",
   "metadata": {},
   "outputs": [
    {
     "name": "stdout",
     "output_type": "stream",
     "text": [
      "True\n",
      "False\n",
      "True\n",
      "True\n"
     ]
    }
   ],
   "source": [
    "print(10+20j in [10,10.20,10+20j,'Python']) \n",
    "print(10+20j not in  (10,10.20,10+20j,'Python'))\n",
    "print(30+40j in {1,20.30,30+40j})\n",
    "print(30+40j in {1:100, 2.3:200, 30+40j:300})"
   ]
  },
  {
   "cell_type": "code",
   "execution_count": null,
   "id": "f29e88db-2531-4218-8f8e-58e9c6dc3bc5",
   "metadata": {},
   "outputs": [],
   "source": [
    "\"\"\"\n",
    "Logical operators\n",
    "Observe the output of below code\n",
    "\n",
    "\"\"\""
   ]
  },
  {
   "cell_type": "code",
   "execution_count": 41,
   "id": "369fe0bc-00a2-4144-8841-0a2a9528834a",
   "metadata": {},
   "outputs": [
    {
     "name": "stdout",
     "output_type": "stream",
     "text": [
      "(20+30j)\n",
      "0j\n",
      "0j\n",
      "0j\n",
      "(10+20j)\n",
      "(20+30j)\n",
      "0j\n",
      "False\n",
      "True\n"
     ]
    }
   ],
   "source": [
    "print(10+20j and 20+30j)\n",
    "print(0+0j and 20+30j)\n",
    "print(20+30j and 0+0j) \n",
    "print(0+0j and 0+0j)\n",
    "print(10+20j or 20+30j)\n",
    "print(0+0j or 20+30j)\n",
    "print(0+0j or 0+0j) \n",
    "print(not 10+20j) \n",
    "print(not 0+0j) "
   ]
  },
  {
   "cell_type": "code",
   "execution_count": null,
   "id": "5057d0e3-fdbc-4c93-a218-fd1696fc9aea",
   "metadata": {},
   "outputs": [],
   "source": []
  }
 ],
 "metadata": {
  "kernelspec": {
   "display_name": "Python 3 (ipykernel)",
   "language": "python",
   "name": "python3"
  },
  "language_info": {
   "codemirror_mode": {
    "name": "ipython",
    "version": 3
   },
   "file_extension": ".py",
   "mimetype": "text/x-python",
   "name": "python",
   "nbconvert_exporter": "python",
   "pygments_lexer": "ipython3",
   "version": "3.12.4"
  }
 },
 "nbformat": 4,
 "nbformat_minor": 5
}
